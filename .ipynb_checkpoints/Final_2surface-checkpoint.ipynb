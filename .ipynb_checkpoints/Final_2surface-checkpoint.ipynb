{
 "cells": [
  {
   "cell_type": "code",
   "execution_count": 3,
   "metadata": {
    "collapsed": true
   },
   "outputs": [],
   "source": [
    "import numpy as np\n",
    "import pandas as pd\n",
    "import csv"
   ]
  },
  {
   "cell_type": "code",
   "execution_count": 4,
   "metadata": {},
   "outputs": [
    {
     "name": "stderr",
     "output_type": "stream",
     "text": [
      "C:\\Users\\Bharath\\Anaconda3\\lib\\site-packages\\ipykernel_launcher.py:2: DeprecationWarning: 'U' mode is deprecated\n",
      "  \n",
      "C:\\Users\\Bharath\\Anaconda3\\lib\\site-packages\\ipykernel_launcher.py:7: DeprecationWarning: 'U' mode is deprecated\n",
      "  import sys\n"
     ]
    }
   ],
   "source": [
    "filename = 'subsurfaces1.csv'\n",
    "with open(filename, 'rU') as p:\n",
    "        my_list = [[int(x) for x in rec] for rec in csv.reader(p, delimiter=',')]\n",
    "subsurfaces1 = [my_list[x:x+4] for x in range(0, len(my_list), 4)]  # note: 4 coordinates to a surfaces\n",
    "\n",
    "filename = 'subsurfaces2.csv'\n",
    "with open(filename, 'rU') as p:\n",
    "        my_list = [[int(x) for x in rec] for rec in csv.reader(p, delimiter=',')]\n",
    "subsurfaces2 = [my_list[x:x+4] for x in range(0, len(my_list), 4)]  # note: 4 coordinates to a surfaces"
   ]
  },
  {
   "cell_type": "code",
   "execution_count": 5,
   "metadata": {
    "collapsed": true
   },
   "outputs": [],
   "source": [
    "# Geometric Functions\n",
    "\n",
    "def midpt_polygon(s): # returns centre of polygon\n",
    "    n_vertices = len(s)\n",
    "    return [x/n_vertices for x in (sum(i) for i in zip(*s))]\n",
    "\n",
    "def vector_vertices(a,b): # returns vector of edge connecting 2 vertices\n",
    "    return [b[0] - a[0], b[1] - a[1], b[2] - a[2]]\n",
    "\n",
    "def mag_vector(x): # returns magnitude of vector\n",
    "    return np.sqrt(np.sum(np.square(x)))\n",
    "\n",
    "def area_polygon(s): # returns area of polygon\n",
    "    return mag_vector(vector_vertices(s[0],s[1]))* mag_vector(vector_vertices(s[1],s[2]))\n",
    "\n",
    "def normal_vector(s): # returns vector normal to surface defined by 3 points\n",
    "    ab = vector_vertices(s[0],s[1])\n",
    "    bc = vector_vertices(s[1],s[2])\n",
    "    return [ab[1]*bc[2]-ab[2]*bc[1],ab[0]*bc[2]-ab[2]*bc[0],ab[0]*bc[1]-ab[1]*bc[0]]\n",
    "\n",
    "def angle_incident(vector1,vector2): #returns angle between 2 vectors\n",
    "    return np.arccos(sum([a*b for a,b in zip(vector1,vector2)])/(mag_vector(vector1)* mag_vector(vector2)))\n",
    "\n",
    "def form_factor(A1,A2,theta1,theta2,r): # returns form factor of surface 2 wrt surface 1\n",
    "    return np.cos(theta1)*np.cos(theta2)*A1*A2/(3.14*np.square(r))\n"
   ]
  },
  {
   "cell_type": "code",
   "execution_count": 6,
   "metadata": {
    "collapsed": true
   },
   "outputs": [],
   "source": [
    "#  define empty lists to populate with calculation parameters/outputs\n",
    "f = []\n",
    "theta1_arch = []\n",
    "theta2_arch = []\n",
    "R_arch = []\n",
    "Rmag_arch =[]"
   ]
  },
  {
   "cell_type": "code",
   "execution_count": 7,
   "metadata": {
    "collapsed": true
   },
   "outputs": [],
   "source": [
    "#  form factor calculation\n",
    "\n",
    "for s1 in subsurfaces1:\n",
    "    for s2 in subsurfaces2:\n",
    "        R = vector_vertices(midpt_polygon(s1), midpt_polygon(s2))\n",
    "        Rmag = mag_vector(R)\n",
    "        theta1 = angle_incident(R, normal_vector(s1))\n",
    "        theta2 = angle_incident(R, normal_vector(s2))\n",
    "        f.append(form_factor(area_polygon(s1),area_polygon(s2),theta1,theta2,Rmag))\n",
    "        R_arch.append(R)\n",
    "        Rmag_arch.append(Rmag)\n",
    "        theta1_arch.append(theta1)\n",
    "        theta2_arch.append(theta2)"
   ]
  },
  {
   "cell_type": "code",
   "execution_count": 8,
   "metadata": {},
   "outputs": [
    {
     "name": "stdout",
     "output_type": "stream",
     "text": [
      "The distance vectors are  [[1.0, 1.0, 0.0], [1.0, 1.75, 0.0], [1.0, 0.0, 0.0], [1.0, 0.75, 0.0]]\n",
      "The distances are  [1.4142135623730951, 2.0155644370746373, 1.0, 1.25]\n",
      "The theta1s are  [0.78539816339744839, 1.0516502125483735, 0.0, 0.64350110879328426]\n",
      "The theta2s are  [0.78539816339744839, 1.0516502125483735, 0.0, 0.64350110879328426]\n",
      "The final view factor is  0.348787170693\n"
     ]
    }
   ],
   "source": [
    "# Calculate area of primary polygon\n",
    "A1 = 0\n",
    "for item in subsurfaces1: A1 = A1+ area_polygon(item)\n",
    "\n",
    "# Calculate form factor\n",
    "result = (sum(f))/A1\n",
    "print(\"The distance vectors are \", R_arch)\n",
    "print(\"The distances are \", Rmag_arch)\n",
    "print(\"The theta1s are \", theta1_arch)\n",
    "print(\"The theta2s are \", theta2_arch)\n",
    "print(\"The final view factor is \", result)"
   ]
  }
 ],
 "metadata": {
  "kernelspec": {
   "display_name": "Python 3",
   "language": "python",
   "name": "python3"
  },
  "language_info": {
   "codemirror_mode": {
    "name": "ipython",
    "version": 3
   },
   "file_extension": ".py",
   "mimetype": "text/x-python",
   "name": "python",
   "nbconvert_exporter": "python",
   "pygments_lexer": "ipython3",
   "version": "3.6.3"
  }
 },
 "nbformat": 4,
 "nbformat_minor": 2
}
